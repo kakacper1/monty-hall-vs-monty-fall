{
 "cells": [
  {
   "cell_type": "markdown",
   "metadata": {},
   "source": [
    "#### Introduction of both problems:\n",
    "\n",
    "1. Monty Hall problem \n",
    "\n",
    "\"Suppose you're on a game show, and you're given the choice of three doors: Behind one door is a car; behind the others, goats. You pick a door, say No. 1, and the host, who knows what's behind the doors, opens another door, say No. 3, which has a goat. He then says to you, \"Do you want to pick door No. 2?\" Is it to your advantage to switch your choice?\" Parade magazine in 1990\n",
    "\n",
    "2. Monty Fall variant\n",
    "\n",
    "\"The host does not know what lies behind the doors, and opens one at random that happens not to reveal the car\"\n",
    "\n",
    "\n",
    "Source: https://en.wikipedia.org/wiki/Monty_Hall_problem"
   ]
  },
  {
   "cell_type": "markdown",
   "metadata": {},
   "source": [
    "#### 1. Monty Hall problem in theory\n",
    "\n",
    "At the beginning, giving initial settings for this problem we have 1/3 chance of selecting a Car.\n",
    "\n",
    "$$ P(C_{1}) = 1/3, P(C_{2}) = 1/3, P(C_{3}) = 1/3 $$ \n",
    "where $C_{i}$  - event that the Car is in $ i $\n",
    "\n",
    "Lets say the contestant chooses the 1st door, now what is the probability that the host will open Door 3, given that the prize is behind either door 1,2 or 3.\n",
    "\n",
    "$$ P(O_{3}|C_{1}) = 1/2, P(O_{3}|C_{2}) = 1 , P(O_{3}|C_{3}) = 0 $$\n",
    "where $O_{i}$  - event that the host opens door $ i $"
   ]
  },
  {
   "cell_type": "markdown",
   "metadata": {},
   "source": [
    "Now that we have understood the reasoning, lets check the optimal strategy. Suppose that in this example the host opens door 3. Door 3 doesn’t have the prize, now how sure can we be that door 2 has the prize?\n",
    "\n",
    "To calculate conditional probabilities Bayesian Rule is used. Bayesian Theorem describes the probability of an event, based on prior knowledge of conditions that might be related to the event.\n",
    "\n",
    "$$ P(A_{i}|B) = \\frac{P(B|A_{i})P(A_{i})}{P(B) }  = \\frac{P(B|A_{i})P(A_{i})}{\\sum \\limits _{j} P(B|A_{j})P(A_{j}) } $$\n",
    "\n",
    "P(A|B) — is the probability of A given that B has already happened.\n",
    "P(B|A) — is the probability of B given that A has already happened. It looks circular and arbitrary now but we will see why it works shortly.\n",
    "P(A) — is the unconditional probability of A occurring.\n",
    "P(B) — is the unconditional probability of B occurring.\n",
    "\n",
    "\n",
    "$$ P(C_{2}|O_{3}) = \\frac{P(O_{3}|C_{2})P(C_{2})}{P(O_{3}|C_{1})P(C_{1}) + P(O_{3}|C_{2})P(C_{2}) + P(O_{3}|C_{3})P(C_{3}) } =   \\frac{(1)(\\frac{1}{3})}{(\\frac{1}{2})(\\frac{1}{3}) + (1)(\\frac{1}{3}) + (0)(\\frac{1}{3}) } = \\frac{2}{3} $$\n",
    "\n",
    "If we had remainded with door 1 in this scenario:\n",
    "\n",
    "$$ P(C_{1}|O_{3}) = \\frac{P(O_{3}|C_{1})P(C_{1})}{P(O_{3}|C_{1})P(C_{1}) + P(O_{3}|C_{2})P(C_{2}) + P(O_{3}|C_{3})P(C_{3}) } =   \\frac{(\\frac{1}{2})(\\frac{1}{3})}{(\\frac{1}{2})(\\frac{1}{3}) + (1)(\\frac{1}{3}) + (0)(\\frac{1}{3}) } = \\frac{1}{3} $$"
   ]
  },
  {
   "cell_type": "markdown",
   "metadata": {},
   "source": [
    "#### 2. Monty Hall problem - simulation of the optimal strategy"
   ]
  },
  {
   "cell_type": "code",
   "execution_count": 9,
   "metadata": {},
   "outputs": [
    {
     "name": "stdout",
     "output_type": "stream",
     "text": [
      "Total time for Loop   47.76332402229309\n"
     ]
    },
    {
     "data": {
      "image/png": "[encoded data removed]",
      "text/plain": [
       "<Figure size 432x288 with 1 Axes>"
      ]
     },
     "metadata": {
      "needs_background": "light"
     },
     "output_type": "display_data"
    }
   ],
   "source": [
    "%matplotlib inline\n",
    "\n",
    "import matplotlib\n",
    "import numpy as np\n",
    "import matplotlib.pyplot as plt\n",
    "from time import time\n",
    "from random import choice as ch\n",
    "\n",
    "ac = []\n",
    "tc = []\n",
    "N = []\n",
    "st = time()\n",
    "\n",
    "for game_iter in range(1,5000):\n",
    "    st1 = time()\n",
    "    score = []\n",
    "    runs = 0\n",
    "    cards = [1,2,3]\n",
    "    for K in range(1,game_iter): # sub loop that simulates 1 to game_iter games\n",
    "        \n",
    "        ##initial settings\n",
    "        not_to_open_doors = []\n",
    "        host_doors = cards.copy()\n",
    "        player_doors = cards.copy()\n",
    "        \n",
    "        #Randomly choose as answer which host knows\n",
    "        winning_door = ch(host) \n",
    "        not_to_open_doors.append(winning_door) # Host knows not to open this door\n",
    "        #Randomly choose contestant pick\n",
    "        players_choice = ch(player_doors) # Contestants random guess\n",
    "        not_to_open_doors.append(players_choice)\n",
    "        \n",
    "        door_to_eliminate = []\n",
    "        for i in host: # The computation....host will eliminate one door\n",
    "            if i not in not_to_open_doors:\n",
    "                door_to_eliminate.append(i)\n",
    "            \n",
    "        #if 2 possibilities, pick one at random\n",
    "        host_elimination = ch(door_to_eliminate)\n",
    "        #print (\"The elimination\",chance)\n",
    "        #print (player)\n",
    "        player_doors.pop(player_doors.index(host_elimination))            \n",
    "        player_doors.pop(player_doors.index(players_choice))\n",
    "        #print (\"final answe\",player)\n",
    "        if player_doors[0] == winning_door:\n",
    "            score.append(1)\n",
    "        else:\n",
    "            score.append(0)\n",
    "        runs = K\n",
    "        \n",
    "    ac.append(np.mean(score))\n",
    "    N.append(game_iter)\n",
    "    en1 = time()\n",
    "    tc.append(en1-st1)\n",
    "en = time()\n",
    "print (\"Total time for Loop  \", en - st )\n",
    "\n",
    "plt.plot(N,ac)\n",
    "plt.show()\n",
    "\n",
    "#plt.plot(N,tc)\n",
    "#plt.show()\n"
   ]
  },
  {
   "cell_type": "markdown",
   "metadata": {},
   "source": [
    "#### 1. Monty Fall problem in theory"
   ]
  },
  {
   "cell_type": "markdown",
   "metadata": {},
   "source": [
    "#### 2. Monty Fall problem - simulation of the different strategies"
   ]
  }
 ],
 "metadata": {
  "kernelspec": {
   "display_name": "Python 3",
   "language": "python",
   "name": "python3"
  },
  "language_info": {
   "codemirror_mode": {
    "name": "ipython",
    "version": 3
   },
   "file_extension": ".py",
   "mimetype": "text/x-python",
   "name": "python",
   "nbconvert_exporter": "python",
   "pygments_lexer": "ipython3",
   "version": "3.7.3"
  }
 },
 "nbformat": 4,
 "nbformat_minor": 2
}
