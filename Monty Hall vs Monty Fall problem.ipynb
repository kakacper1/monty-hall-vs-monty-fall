{
 "cells": [
  {
   "cell_type": "markdown",
   "metadata": {},
   "source": [
    "## Introduction of both problems:\n",
    "\n",
    "1. Monty Hall problem \n",
    "\n",
    "\"Suppose you're on a game show, and you're given the choice of three doors: Behind one door is a car; behind the others, goats. You pick a door, say No. 1, and the host, who knows what's behind the doors, opens another door, say No. 3, which has a goat. He then says to you, \"Do you want to pick door No. 2?\" Is it to your advantage to switch your choice?\" Parade magazine in 1990\n",
    "\n",
    "2. Monty Fall variant\n",
    "\n",
    "\"The host does not know what lies behind the doors, and opens one at random that happens not to reveal the car\"\n",
    "\n",
    "\n",
    "Source: https://en.wikipedia.org/wiki/Monty_Hall_problem"
   ]
  },
  {
   "cell_type": "markdown",
   "metadata": {},
   "source": [
    "### 1. Monty Hall problem in theory\n",
    "\n",
    "At the beginning, giving initial settings for this problem we have 1/3 chance of selecting a Car.\n",
    "\n",
    "$$ P(C_{1}) = 1/3, P(C_{2}) = 1/3, P(C_{3}) = 1/3 $$ \n",
    "where $C_{i}$  - event that the Car is in $ i $\n",
    "\n",
    "For the Monty Hall Problem, note that it shouldn’t matter which door is selected initially because the three door should be identical and all three doors have a 1/3 chance of containing the prize. Lets say the contestant chooses the 1st door.\n",
    "\n",
    "| Prize is at | Player's initil choice | Monty elimination | Player's final choice | Result |\n",
    "| --- | --- | --- | --- | --- | \n",
    "| 1 | 1 | 2 or 3 | 3 or 2 | <font color='red'> LOSE </font> |\n",
    "| 2 | 1 | 3 | 2 | <font color='green'> WIN  </font> |\n",
    "| 3 | 1 | 2 | 3 | <font color='green'> WIN  </font> |\n",
    "\n",
    "In case contestant chooses the 1st door, now what is the probability that the host will open Door 3, given that the prize is behind either door 1,2 or 3.\n",
    "\n",
    "$$ P(O_{3}|C_{1}) = 1/2, P(O_{3}|C_{2}) = 1 , P(O_{3}|C_{3}) = 0 $$\n",
    "where $O_{i}$  - event that the host opens door $ i $"
   ]
  },
  {
   "cell_type": "markdown",
   "metadata": {},
   "source": [
    "Now that we have understood the reasoning, lets check the optimal strategy. Suppose that in this example the host opens door 3. Door 3 doesn’t have the prize, now how sure can we be that door 2 has the prize?\n",
    "\n",
    "To calculate conditional probabilities Bayesian Rule is used. Bayesian Theorem describes the probability of an event, based on prior knowledge of conditions that might be related to the event.\n",
    "\n",
    "$$ P(A_{i}|B) = \\frac{P(B|A_{i})P(A_{i})}{P(B) }  = \\frac{P(B|A_{i})P(A_{i})}{\\sum \\limits _{j} P(B|A_{j})P(A_{j}) } $$\n",
    "\n",
    "P(A|B) — is the probability of A given that B has already happened.\n",
    "P(B|A) — is the probability of B given that A has already happened. \n",
    "P(A) — is the unconditional probability of A occurring.\n",
    "P(B) — is the unconditional probability of B occurring.\n",
    "\n",
    "\n",
    "$$ P(C_{2}|O_{3}) = \\frac{P(O_{3}|C_{2})P(C_{2})}{P(O_{3}|C_{1})P(C_{1}) + P(O_{3}|C_{2})P(C_{2}) + P(O_{3}|C_{3})P(C_{3}) } =   \\frac{(1)(\\frac{1}{3})}{(\\frac{1}{2})(\\frac{1}{3}) + (1)(\\frac{1}{3}) + (0)(\\frac{1}{3}) } = \\frac{2}{3} $$\n",
    "\n",
    "If the contestant would remain with door 1 in this scenario:\n",
    "\n",
    "$$ P(C_{1}|O_{3}) = \\frac{P(O_{3}|C_{1})P(C_{1})}{P(O_{3}|C_{1})P(C_{1}) + P(O_{3}|C_{2})P(C_{2}) + P(O_{3}|C_{3})P(C_{3}) } =   \\frac{(\\frac{1}{2})(\\frac{1}{3})}{(\\frac{1}{2})(\\frac{1}{3}) + (1)(\\frac{1}{3}) + (0)(\\frac{1}{3}) } = \\frac{1}{3} $$"
   ]
  },
  {
   "cell_type": "code",
   "execution_count": 1,
   "metadata": {},
   "outputs": [],
   "source": [
    "%matplotlib inline\n",
    "\n",
    "import matplotlib\n",
    "import numpy as np\n",
    "import matplotlib.pyplot as plt\n",
    "from time import time\n",
    "import random\n",
    "import pandas as pd\n",
    "\n",
    "def run_simulations(max_simulation_number=2000, variant='Monty Hall', change=True, keep_log=False ):\n",
    "    \"\"\"Function runs number of simulation for different variants of Monty Hall problem to evaluate what is the optimal strategy\n",
    "        for the Contenstant. It runs 'simulation_number' of simulation where for each of them different number of simulated games\n",
    "        is conducted. Thanks to that we can see how probability value for specific variant and strategy converge to a specific value. \n",
    "        \n",
    "    Parameters:\n",
    "    - max_simulation_number (int): Maximum number of simulation with increasing number of iterations\n",
    "    - variant (str): What variant of the problem to simulate: 'Monty Hall', 'Monty Fall'\n",
    "    - change (bool): Player's strategy to tackle the problem: True - Chnage, False - Stay\n",
    "    - keep_log (bool): if to create simulation log, not recommended for huge number of simulations\n",
    "    \n",
    "    Returns:\n",
    "    list: mean probabilities for number of simulation. \n",
    "    Data Frame: simulation_log\n",
    "\n",
    "   \"\"\"\n",
    "\n",
    "    columns =  ['simulation_id','game_no','prize_door','players_initial_choice','monty_elimination','players_final_choice','result'] \n",
    "    simulation_log = []\n",
    "    \n",
    "    # results of simulations\n",
    "    winning_probability_means = []\n",
    "    # ids of simulation\n",
    "    simulation_ids = []\n",
    "    # to calculate simulation time\n",
    "    start_time = time()\n",
    "\n",
    "    # double loop construction let us to see how the probabilities are converging at a specific value for seperate experiments\n",
    "    for no_of_games in range(1, max_simulation_number+1):\n",
    "        \n",
    "        score = []\n",
    "        door_set = {1,2,3} \n",
    "        for game_no in range(0,no_of_games): # sub loop that simulates from 1 to no_of_games games\n",
    "            game_log = []\n",
    "            game_log.append(no_of_games)\n",
    "            game_log.append(game_no)\n",
    "            \n",
    "            # 0. initial settings:\n",
    "            not_to_open_doors = set()\n",
    "            host_doors = door_set.copy()\n",
    "            player_doors = door_set.copy()\n",
    "            \n",
    "            # 1. Randomly choose prize door\n",
    "            prize_door = random.choice(tuple(host_doors))\n",
    "            game_log.append(prize_door)\n",
    "            if variant == 'Monty Hall':\n",
    "                not_to_open_doors.add(prize_door) # Host knows not to open prize door \n",
    "            #elif variant == 'Monty Fall':\n",
    "                # do nothing as Host does not know where is the prize\n",
    "                \n",
    "            # 2. Randomly choose Contestant selection\n",
    "            players_choice = random.choice(tuple(player_doors))\n",
    "            game_log.append(players_choice)\n",
    "            # Host knows not to open these doors \n",
    "            not_to_open_doors.add(players_choice) \n",
    "            host_doors.difference_update(not_to_open_doors)\n",
    "        \n",
    "            # 3. if host has a choice, pick one at random and remove from available choice for the Contestant\n",
    "            host_elimination = random.choice(tuple(host_doors))\n",
    "            game_log.append(host_elimination)\n",
    "            # Contestant cannot pick open door\n",
    "            player_doors.remove(host_elimination)\n",
    "                # if Host has chosen prize door - trial void\n",
    "            if host_elimination == prize_door:\n",
    "                # Contestant does not get to choose\n",
    "                game_log.append('--')\n",
    "                # trial considered as VOID\n",
    "                game_log.append('VOID')\n",
    "                # update simulation log\n",
    "                if keep_log:\n",
    "                    simulation_log.append(game_log)\n",
    "                # skip to another game iteration\n",
    "                continue\n",
    "            \n",
    "            # 4. Depending on the strategy Contestant may keep or change initial selection !!!! implement different solution\n",
    "            if change:\n",
    "                # remove players previous choice\n",
    "                player_doors.remove(players_choice)\n",
    "                #unpack player's final selection\n",
    "                (final_choice,) = player_doors \n",
    "            else:\n",
    "                # player keeps initial choice\n",
    "                final_choice = players_choice\n",
    "                \n",
    "            game_log.append(final_choice)\n",
    "        \n",
    "\n",
    "            if final_choice == prize_door:\n",
    "                score.append(1)\n",
    "                game_log.append('WIN')\n",
    "            else:\n",
    "                score.append(0)\n",
    "                game_log.append('LOSE')\n",
    "\n",
    "            if keep_log:\n",
    "                simulation_log.append(game_log)\n",
    "  \n",
    "        if len(score)==0:\n",
    "            score.append(0)\n",
    "        winning_probability_means.append(np.mean(score))\n",
    "        simulation_ids.append(no_of_games)\n",
    "            \n",
    "    end_time = time()\n",
    "    print (\"Total time :\", end_time - start_time )\n",
    "\n",
    "    # Display results of symulation\n",
    "    plt.plot(simulation_ids,winning_probability_means)\n",
    "    plt.show()\n",
    "    \n",
    "    print('Show probabilities of 10 latest simulation:')\n",
    "    print(winning_probability_means[-10:])\n",
    "    \n",
    "    if keep_log:\n",
    "        simulation_log = pd.DataFrame(data=simulation_log, columns=columns)\n",
    "        \n",
    "    return winning_probability_means , simulation_log\n"
   ]
  },
  {
   "cell_type": "markdown",
   "metadata": {},
   "source": [
    "### 2. Monty Hall problem - simulation of the optimal strategy"
   ]
  },
  {
   "cell_type": "code",
   "execution_count": 2,
   "metadata": {},
   "outputs": [
    {
     "name": "stdout",
     "output_type": "stream",
     "text": [
      "Total time : 9.330296277999878\n"
     ]
    },
    {
     "data": {
      "image/png": "[encoded data removed]",
      "text/plain": [
       "<Figure size 432x288 with 1 Axes>"
      ]
     },
     "metadata": {
      "needs_background": "light"
     },
     "output_type": "display_data"
    },
    {
     "name": "stdout",
     "output_type": "stream",
     "text": [
      "Show probabilities of 10 latest simulation:\n",
      "[0.6574585635359116, 0.6576305220883534, 0.6728549924736578, 0.6589769307923772, 0.6756892230576441, 0.6613226452905812, 0.6509764646970456, 0.6791791791791791, 0.6608304152076038, 0.679]\n"
     ]
    }
   ],
   "source": [
    "probabilities, simulation_log = run_simulations(max_simulation_number=2000, variant='Monty Hall', change=True, keep_log=True )"
   ]
  },
  {
   "cell_type": "code",
   "execution_count": 3,
   "metadata": {},
   "outputs": [
    {
     "name": "stdout",
     "output_type": "stream",
     "text": [
      "Snipped from simulation log:\n"
     ]
    },
    {
     "data": {
      "text/html": [
       "<div>\n",
       "<style scoped>\n",
       "    .dataframe tbody tr th:only-of-type {\n",
       "        vertical-align: middle;\n",
       "    }\n",
       "\n",
       "    .dataframe tbody tr th {\n",
       "        vertical-align: top;\n",
       "    }\n",
       "\n",
       "    .dataframe thead th {\n",
       "        text-align: right;\n",
       "    }\n",
       "</style>\n",
       "<table border=\"1\" class=\"dataframe\">\n",
       "  <thead>\n",
       "    <tr style=\"text-align: right;\">\n",
       "      <th></th>\n",
       "      <th>simulation_id</th>\n",
       "      <th>game_no</th>\n",
       "      <th>prize_door</th>\n",
       "      <th>players_initial_choice</th>\n",
       "      <th>monty_elimination</th>\n",
       "      <th>players_final_choice</th>\n",
       "      <th>result</th>\n",
       "    </tr>\n",
       "  </thead>\n",
       "  <tbody>\n",
       "    <tr>\n",
       "      <th>0</th>\n",
       "      <td>1</td>\n",
       "      <td>0</td>\n",
       "      <td>1</td>\n",
       "      <td>1</td>\n",
       "      <td>2</td>\n",
       "      <td>3</td>\n",
       "      <td>LOSE</td>\n",
       "    </tr>\n",
       "    <tr>\n",
       "      <th>1</th>\n",
       "      <td>2</td>\n",
       "      <td>0</td>\n",
       "      <td>3</td>\n",
       "      <td>3</td>\n",
       "      <td>1</td>\n",
       "      <td>2</td>\n",
       "      <td>LOSE</td>\n",
       "    </tr>\n",
       "    <tr>\n",
       "      <th>2</th>\n",
       "      <td>2</td>\n",
       "      <td>1</td>\n",
       "      <td>3</td>\n",
       "      <td>1</td>\n",
       "      <td>2</td>\n",
       "      <td>3</td>\n",
       "      <td>WIN</td>\n",
       "    </tr>\n",
       "    <tr>\n",
       "      <th>3</th>\n",
       "      <td>3</td>\n",
       "      <td>0</td>\n",
       "      <td>1</td>\n",
       "      <td>2</td>\n",
       "      <td>3</td>\n",
       "      <td>1</td>\n",
       "      <td>WIN</td>\n",
       "    </tr>\n",
       "    <tr>\n",
       "      <th>4</th>\n",
       "      <td>3</td>\n",
       "      <td>1</td>\n",
       "      <td>2</td>\n",
       "      <td>2</td>\n",
       "      <td>1</td>\n",
       "      <td>3</td>\n",
       "      <td>LOSE</td>\n",
       "    </tr>\n",
       "    <tr>\n",
       "      <th>5</th>\n",
       "      <td>3</td>\n",
       "      <td>2</td>\n",
       "      <td>3</td>\n",
       "      <td>2</td>\n",
       "      <td>1</td>\n",
       "      <td>3</td>\n",
       "      <td>WIN</td>\n",
       "    </tr>\n",
       "    <tr>\n",
       "      <th>6</th>\n",
       "      <td>4</td>\n",
       "      <td>0</td>\n",
       "      <td>1</td>\n",
       "      <td>2</td>\n",
       "      <td>3</td>\n",
       "      <td>1</td>\n",
       "      <td>WIN</td>\n",
       "    </tr>\n",
       "    <tr>\n",
       "      <th>7</th>\n",
       "      <td>4</td>\n",
       "      <td>1</td>\n",
       "      <td>2</td>\n",
       "      <td>1</td>\n",
       "      <td>3</td>\n",
       "      <td>2</td>\n",
       "      <td>WIN</td>\n",
       "    </tr>\n",
       "    <tr>\n",
       "      <th>8</th>\n",
       "      <td>4</td>\n",
       "      <td>2</td>\n",
       "      <td>1</td>\n",
       "      <td>1</td>\n",
       "      <td>3</td>\n",
       "      <td>2</td>\n",
       "      <td>LOSE</td>\n",
       "    </tr>\n",
       "    <tr>\n",
       "      <th>9</th>\n",
       "      <td>4</td>\n",
       "      <td>3</td>\n",
       "      <td>1</td>\n",
       "      <td>3</td>\n",
       "      <td>2</td>\n",
       "      <td>1</td>\n",
       "      <td>WIN</td>\n",
       "    </tr>\n",
       "  </tbody>\n",
       "</table>\n",
       "</div>"
      ],
      "text/plain": [
       "   simulation_id  game_no  prize_door  players_initial_choice  \\\n",
       "0              1        0           1                       1   \n",
       "1              2        0           3                       3   \n",
       "2              2        1           3                       1   \n",
       "3              3        0           1                       2   \n",
       "4              3        1           2                       2   \n",
       "5              3        2           3                       2   \n",
       "6              4        0           1                       2   \n",
       "7              4        1           2                       1   \n",
       "8              4        2           1                       1   \n",
       "9              4        3           1                       3   \n",
       "\n",
       "   monty_elimination  players_final_choice result  \n",
       "0                  2                     3   LOSE  \n",
       "1                  1                     2   LOSE  \n",
       "2                  2                     3    WIN  \n",
       "3                  3                     1    WIN  \n",
       "4                  1                     3   LOSE  \n",
       "5                  1                     3    WIN  \n",
       "6                  3                     1    WIN  \n",
       "7                  3                     2    WIN  \n",
       "8                  3                     2   LOSE  \n",
       "9                  2                     1    WIN  "
      ]
     },
     "execution_count": 3,
     "metadata": {},
     "output_type": "execute_result"
    }
   ],
   "source": [
    "print('Snipped from simulation log:')\n",
    "simulation_log[:10]"
   ]
  },
  {
   "cell_type": "code",
   "execution_count": 4,
   "metadata": {},
   "outputs": [
    {
     "name": "stdout",
     "output_type": "stream",
     "text": [
      "Random sample from simulation log:\n"
     ]
    },
    {
     "data": {
      "text/html": [
       "<div>\n",
       "<style scoped>\n",
       "    .dataframe tbody tr th:only-of-type {\n",
       "        vertical-align: middle;\n",
       "    }\n",
       "\n",
       "    .dataframe tbody tr th {\n",
       "        vertical-align: top;\n",
       "    }\n",
       "\n",
       "    .dataframe thead th {\n",
       "        text-align: right;\n",
       "    }\n",
       "</style>\n",
       "<table border=\"1\" class=\"dataframe\">\n",
       "  <thead>\n",
       "    <tr style=\"text-align: right;\">\n",
       "      <th></th>\n",
       "      <th>simulation_id</th>\n",
       "      <th>game_no</th>\n",
       "      <th>prize_door</th>\n",
       "      <th>players_initial_choice</th>\n",
       "      <th>monty_elimination</th>\n",
       "      <th>players_final_choice</th>\n",
       "      <th>result</th>\n",
       "    </tr>\n",
       "  </thead>\n",
       "  <tbody>\n",
       "    <tr>\n",
       "      <th>1411436</th>\n",
       "      <td>1680</td>\n",
       "      <td>1076</td>\n",
       "      <td>1</td>\n",
       "      <td>1</td>\n",
       "      <td>2</td>\n",
       "      <td>3</td>\n",
       "      <td>LOSE</td>\n",
       "    </tr>\n",
       "    <tr>\n",
       "      <th>767943</th>\n",
       "      <td>1239</td>\n",
       "      <td>1002</td>\n",
       "      <td>1</td>\n",
       "      <td>1</td>\n",
       "      <td>2</td>\n",
       "      <td>3</td>\n",
       "      <td>LOSE</td>\n",
       "    </tr>\n",
       "    <tr>\n",
       "      <th>1844632</th>\n",
       "      <td>1921</td>\n",
       "      <td>472</td>\n",
       "      <td>3</td>\n",
       "      <td>1</td>\n",
       "      <td>2</td>\n",
       "      <td>3</td>\n",
       "      <td>WIN</td>\n",
       "    </tr>\n",
       "    <tr>\n",
       "      <th>20684</th>\n",
       "      <td>203</td>\n",
       "      <td>181</td>\n",
       "      <td>2</td>\n",
       "      <td>3</td>\n",
       "      <td>1</td>\n",
       "      <td>2</td>\n",
       "      <td>WIN</td>\n",
       "    </tr>\n",
       "    <tr>\n",
       "      <th>77244</th>\n",
       "      <td>393</td>\n",
       "      <td>216</td>\n",
       "      <td>2</td>\n",
       "      <td>2</td>\n",
       "      <td>3</td>\n",
       "      <td>1</td>\n",
       "      <td>LOSE</td>\n",
       "    </tr>\n",
       "  </tbody>\n",
       "</table>\n",
       "</div>"
      ],
      "text/plain": [
       "         simulation_id  game_no  prize_door  players_initial_choice  \\\n",
       "1411436           1680     1076           1                       1   \n",
       "767943            1239     1002           1                       1   \n",
       "1844632           1921      472           3                       1   \n",
       "20684              203      181           2                       3   \n",
       "77244              393      216           2                       2   \n",
       "\n",
       "         monty_elimination  players_final_choice result  \n",
       "1411436                  2                     3   LOSE  \n",
       "767943                   2                     3   LOSE  \n",
       "1844632                  2                     3    WIN  \n",
       "20684                    1                     2    WIN  \n",
       "77244                    3                     1   LOSE  "
      ]
     },
     "execution_count": 4,
     "metadata": {},
     "output_type": "execute_result"
    }
   ],
   "source": [
    "print('Random sample from simulation log:') \n",
    "simulation_log.sample(n = 5)"
   ]
  },
  {
   "cell_type": "markdown",
   "metadata": {},
   "source": [
    "### 3. Monty Hall problem - What if Contestant keeps original choice?"
   ]
  },
  {
   "cell_type": "code",
   "execution_count": 5,
   "metadata": {},
   "outputs": [
    {
     "name": "stdout",
     "output_type": "stream",
     "text": [
      "Total time : 7.613980054855347\n"
     ]
    },
    {
     "data": {
      "image/png": "[encoded data removed]",
      "text/plain": [
       "<Figure size 432x288 with 1 Axes>"
      ]
     },
     "metadata": {
      "needs_background": "light"
     },
     "output_type": "display_data"
    },
    {
     "name": "stdout",
     "output_type": "stream",
     "text": [
      "Show probabilities of 10 latest simulation:\n",
      "[0.3184329482672024, 0.33232931726907633, 0.3467134972403412, 0.3365095285857573, 0.3268170426065163, 0.34218436873747493, 0.33400100150225337, 0.32882882882882886, 0.33766883441720863, 0.333]\n"
     ]
    }
   ],
   "source": [
    "probabilities, simulation_logs = run_simulations(max_simulation_number=2000, variant='Monty Hall', change=False, keep_log=False )"
   ]
  },
  {
   "cell_type": "markdown",
   "metadata": {},
   "source": [
    "Then the winning probability converges to around 0.33"
   ]
  },
  {
   "cell_type": "markdown",
   "metadata": {},
   "source": [
    "### 4. 'Monty Fall' variant in theory\n",
    "\n",
    "To meet assumptions of the Monty Fall variant we have to exclude all trials where Monty opens the door with a car.\n",
    "In total there will be 2/3 * 1/2 = 1/3 cases to skip.\n",
    "\n",
    "To observe this happending Contestant has to select a goat in the first place (in the previous variant this would assure victory) and then Monty has 50% chance to select a goat. There are 1/3 cases where Monty loses his job by selecting a car. 1/3 when he choses a goat and then the player with switching tactics wins and 1/3 of cases when Contestant switches and chooses a goat. Therefore for the second case, there is no better technique and keeping original choice or switching gives the same values. We can observe it in the following table:\n",
    "\n",
    "| Prize is at | Player's initil choice | Monty elimination | Player's final choice | Result |\n",
    "| --- | --- | --- | --- | --- | \n",
    "| 1 | 1 | 2 | 3 | <font color='red'> LOSE </font> |\n",
    "| 1 | 1 | 3 | 2 | <font color='red'> LOSE </font> |\n",
    "| 2 | 1 | 2 | - | VOID |\n",
    "| 2 | 1 | 3 | 2 | <font color='green'> WIN  </font> |\n",
    "| 3 | 1 | 2 | 3 | <font color='green'> WIN  </font> |\n",
    "| 3 | 1 | 3 | - | VOID |\n"
   ]
  },
  {
   "cell_type": "markdown",
   "metadata": {},
   "source": [
    "### 5. 'Monty Fall' variant - simulation of both strategies"
   ]
  },
  {
   "cell_type": "code",
   "execution_count": 6,
   "metadata": {},
   "outputs": [
    {
     "name": "stdout",
     "output_type": "stream",
     "text": [
      "Total time : 8.3526771068573\n"
     ]
    },
    {
     "data": {
      "image/png": "[encoded data removed]",
      "text/plain": [
       "<Figure size 432x288 with 1 Axes>"
      ]
     },
     "metadata": {
      "needs_background": "light"
     },
     "output_type": "display_data"
    },
    {
     "name": "stdout",
     "output_type": "stream",
     "text": [
      "Show probabilities of 10 latest simulation:\n",
      "[0.5257099002302379, 0.5123780945236309, 0.47435897435897434, 0.49811888638073737, 0.4856278366111952, 0.5112443778110944, 0.49251497005988026, 0.4946969696969697, 0.4892032762472077, 0.5045454545454545]\n"
     ]
    }
   ],
   "source": [
    "# strategy: changing the initial selection\n",
    "probabilities, simulation_log = run_simulations(max_simulation_number=2000, variant='Monty Fall', change=True, keep_log=True )"
   ]
  },
  {
   "cell_type": "code",
   "execution_count": 7,
   "metadata": {},
   "outputs": [
    {
     "name": "stdout",
     "output_type": "stream",
     "text": [
      "Total time : 8.463392496109009\n"
     ]
    },
    {
     "data": {
      "image/png": "[encoded data removed]",
      "text/plain": [
       "<Figure size 432x288 with 1 Axes>"
      ]
     },
     "metadata": {
      "needs_background": "light"
     },
     "output_type": "display_data"
    },
    {
     "name": "stdout",
     "output_type": "stream",
     "text": [
      "Show probabilities of 10 latest simulation:\n",
      "[0.4838467317806161, 0.5227103499627699, 0.4829416224412434, 0.5117130307467057, 0.484304932735426, 0.5102489019033675, 0.5360294117647059, 0.482225656877898, 0.510250569476082, 0.48654708520179374]\n"
     ]
    }
   ],
   "source": [
    "# strategy: keeping the initial selection\n",
    "probabilities, simulation_log = run_simulations(max_simulation_number=2000, variant='Monty Fall', change=False, keep_log=True)"
   ]
  },
  {
   "cell_type": "markdown",
   "metadata": {},
   "source": [
    "As we can see from the simulations, both winning probabilities converge to 50 %, which confirms the hypothesis."
   ]
  },
  {
   "cell_type": "code",
   "execution_count": 8,
   "metadata": {},
   "outputs": [
    {
     "name": "stdout",
     "output_type": "stream",
     "text": [
      "Snipped from simulation log:\n"
     ]
    },
    {
     "data": {
      "text/html": [
       "<div>\n",
       "<style scoped>\n",
       "    .dataframe tbody tr th:only-of-type {\n",
       "        vertical-align: middle;\n",
       "    }\n",
       "\n",
       "    .dataframe tbody tr th {\n",
       "        vertical-align: top;\n",
       "    }\n",
       "\n",
       "    .dataframe thead th {\n",
       "        text-align: right;\n",
       "    }\n",
       "</style>\n",
       "<table border=\"1\" class=\"dataframe\">\n",
       "  <thead>\n",
       "    <tr style=\"text-align: right;\">\n",
       "      <th></th>\n",
       "      <th>simulation_id</th>\n",
       "      <th>game_no</th>\n",
       "      <th>prize_door</th>\n",
       "      <th>players_initial_choice</th>\n",
       "      <th>monty_elimination</th>\n",
       "      <th>players_final_choice</th>\n",
       "      <th>result</th>\n",
       "    </tr>\n",
       "  </thead>\n",
       "  <tbody>\n",
       "    <tr>\n",
       "      <th>0</th>\n",
       "      <td>1</td>\n",
       "      <td>0</td>\n",
       "      <td>3</td>\n",
       "      <td>3</td>\n",
       "      <td>2</td>\n",
       "      <td>3</td>\n",
       "      <td>WIN</td>\n",
       "    </tr>\n",
       "    <tr>\n",
       "      <th>1</th>\n",
       "      <td>2</td>\n",
       "      <td>0</td>\n",
       "      <td>2</td>\n",
       "      <td>2</td>\n",
       "      <td>3</td>\n",
       "      <td>2</td>\n",
       "      <td>WIN</td>\n",
       "    </tr>\n",
       "    <tr>\n",
       "      <th>2</th>\n",
       "      <td>2</td>\n",
       "      <td>1</td>\n",
       "      <td>2</td>\n",
       "      <td>2</td>\n",
       "      <td>3</td>\n",
       "      <td>2</td>\n",
       "      <td>WIN</td>\n",
       "    </tr>\n",
       "    <tr>\n",
       "      <th>3</th>\n",
       "      <td>3</td>\n",
       "      <td>0</td>\n",
       "      <td>3</td>\n",
       "      <td>1</td>\n",
       "      <td>3</td>\n",
       "      <td>--</td>\n",
       "      <td>VOID</td>\n",
       "    </tr>\n",
       "    <tr>\n",
       "      <th>4</th>\n",
       "      <td>3</td>\n",
       "      <td>1</td>\n",
       "      <td>2</td>\n",
       "      <td>2</td>\n",
       "      <td>3</td>\n",
       "      <td>2</td>\n",
       "      <td>WIN</td>\n",
       "    </tr>\n",
       "    <tr>\n",
       "      <th>5</th>\n",
       "      <td>3</td>\n",
       "      <td>2</td>\n",
       "      <td>1</td>\n",
       "      <td>1</td>\n",
       "      <td>3</td>\n",
       "      <td>1</td>\n",
       "      <td>WIN</td>\n",
       "    </tr>\n",
       "    <tr>\n",
       "      <th>6</th>\n",
       "      <td>4</td>\n",
       "      <td>0</td>\n",
       "      <td>1</td>\n",
       "      <td>1</td>\n",
       "      <td>3</td>\n",
       "      <td>1</td>\n",
       "      <td>WIN</td>\n",
       "    </tr>\n",
       "    <tr>\n",
       "      <th>7</th>\n",
       "      <td>4</td>\n",
       "      <td>1</td>\n",
       "      <td>1</td>\n",
       "      <td>2</td>\n",
       "      <td>1</td>\n",
       "      <td>--</td>\n",
       "      <td>VOID</td>\n",
       "    </tr>\n",
       "    <tr>\n",
       "      <th>8</th>\n",
       "      <td>4</td>\n",
       "      <td>2</td>\n",
       "      <td>2</td>\n",
       "      <td>2</td>\n",
       "      <td>1</td>\n",
       "      <td>2</td>\n",
       "      <td>WIN</td>\n",
       "    </tr>\n",
       "    <tr>\n",
       "      <th>9</th>\n",
       "      <td>4</td>\n",
       "      <td>3</td>\n",
       "      <td>1</td>\n",
       "      <td>2</td>\n",
       "      <td>1</td>\n",
       "      <td>--</td>\n",
       "      <td>VOID</td>\n",
       "    </tr>\n",
       "  </tbody>\n",
       "</table>\n",
       "</div>"
      ],
      "text/plain": [
       "   simulation_id  game_no  prize_door  players_initial_choice  \\\n",
       "0              1        0           3                       3   \n",
       "1              2        0           2                       2   \n",
       "2              2        1           2                       2   \n",
       "3              3        0           3                       1   \n",
       "4              3        1           2                       2   \n",
       "5              3        2           1                       1   \n",
       "6              4        0           1                       1   \n",
       "7              4        1           1                       2   \n",
       "8              4        2           2                       2   \n",
       "9              4        3           1                       2   \n",
       "\n",
       "   monty_elimination players_final_choice result  \n",
       "0                  2                    3    WIN  \n",
       "1                  3                    2    WIN  \n",
       "2                  3                    2    WIN  \n",
       "3                  3                   --   VOID  \n",
       "4                  3                    2    WIN  \n",
       "5                  3                    1    WIN  \n",
       "6                  3                    1    WIN  \n",
       "7                  1                   --   VOID  \n",
       "8                  1                    2    WIN  \n",
       "9                  1                   --   VOID  "
      ]
     },
     "execution_count": 8,
     "metadata": {},
     "output_type": "execute_result"
    }
   ],
   "source": [
    "# Check simulation log\n",
    "print('Snipped from simulation log:')\n",
    "simulation_log[:10]"
   ]
  },
  {
   "cell_type": "code",
   "execution_count": 9,
   "metadata": {},
   "outputs": [
    {
     "name": "stdout",
     "output_type": "stream",
     "text": [
      "Random sample from simulation log:\n"
     ]
    },
    {
     "data": {
      "text/html": [
       "<div>\n",
       "<style scoped>\n",
       "    .dataframe tbody tr th:only-of-type {\n",
       "        vertical-align: middle;\n",
       "    }\n",
       "\n",
       "    .dataframe tbody tr th {\n",
       "        vertical-align: top;\n",
       "    }\n",
       "\n",
       "    .dataframe thead th {\n",
       "        text-align: right;\n",
       "    }\n",
       "</style>\n",
       "<table border=\"1\" class=\"dataframe\">\n",
       "  <thead>\n",
       "    <tr style=\"text-align: right;\">\n",
       "      <th></th>\n",
       "      <th>simulation_id</th>\n",
       "      <th>game_no</th>\n",
       "      <th>prize_door</th>\n",
       "      <th>players_initial_choice</th>\n",
       "      <th>monty_elimination</th>\n",
       "      <th>players_final_choice</th>\n",
       "      <th>result</th>\n",
       "    </tr>\n",
       "  </thead>\n",
       "  <tbody>\n",
       "    <tr>\n",
       "      <th>1941866</th>\n",
       "      <td>1971</td>\n",
       "      <td>431</td>\n",
       "      <td>3</td>\n",
       "      <td>3</td>\n",
       "      <td>2</td>\n",
       "      <td>3</td>\n",
       "      <td>WIN</td>\n",
       "    </tr>\n",
       "    <tr>\n",
       "      <th>1458353</th>\n",
       "      <td>1708</td>\n",
       "      <td>575</td>\n",
       "      <td>3</td>\n",
       "      <td>1</td>\n",
       "      <td>3</td>\n",
       "      <td>--</td>\n",
       "      <td>VOID</td>\n",
       "    </tr>\n",
       "    <tr>\n",
       "      <th>1102152</th>\n",
       "      <td>1485</td>\n",
       "      <td>282</td>\n",
       "      <td>1</td>\n",
       "      <td>2</td>\n",
       "      <td>3</td>\n",
       "      <td>2</td>\n",
       "      <td>LOSE</td>\n",
       "    </tr>\n",
       "    <tr>\n",
       "      <th>610855</th>\n",
       "      <td>1105</td>\n",
       "      <td>895</td>\n",
       "      <td>3</td>\n",
       "      <td>3</td>\n",
       "      <td>1</td>\n",
       "      <td>3</td>\n",
       "      <td>WIN</td>\n",
       "    </tr>\n",
       "    <tr>\n",
       "      <th>1113302</th>\n",
       "      <td>1492</td>\n",
       "      <td>1016</td>\n",
       "      <td>1</td>\n",
       "      <td>1</td>\n",
       "      <td>2</td>\n",
       "      <td>1</td>\n",
       "      <td>WIN</td>\n",
       "    </tr>\n",
       "  </tbody>\n",
       "</table>\n",
       "</div>"
      ],
      "text/plain": [
       "         simulation_id  game_no  prize_door  players_initial_choice  \\\n",
       "1941866           1971      431           3                       3   \n",
       "1458353           1708      575           3                       1   \n",
       "1102152           1485      282           1                       2   \n",
       "610855            1105      895           3                       3   \n",
       "1113302           1492     1016           1                       1   \n",
       "\n",
       "         monty_elimination players_final_choice result  \n",
       "1941866                  2                    3    WIN  \n",
       "1458353                  3                   --   VOID  \n",
       "1102152                  3                    2   LOSE  \n",
       "610855                   1                    3    WIN  \n",
       "1113302                  2                    1    WIN  "
      ]
     },
     "execution_count": 9,
     "metadata": {},
     "output_type": "execute_result"
    }
   ],
   "source": [
    "# sample from simulation log\n",
    "print('Random sample from simulation log:') \n",
    "simulation_log.sample(n = 5)"
   ]
  },
  {
   "cell_type": "markdown",
   "metadata": {},
   "source": [
    "In this Notebook a generic function to simulate different Monty Hall variants was presented. \n",
    "It is programmed in a way that is easy to extend it by implementing other viariants of the problem."
   ]
  }
 ],
 "metadata": {
  "kernelspec": {
   "display_name": "Python 3",
   "language": "python",
   "name": "python3"
  },
  "language_info": {
   "codemirror_mode": {
    "name": "ipython",
    "version": 3
   },
   "file_extension": ".py",
   "mimetype": "text/x-python",
   "name": "python",
   "nbconvert_exporter": "python",
   "pygments_lexer": "ipython3",
   "version": "3.7.3"
  }
 },
 "nbformat": 4,
 "nbformat_minor": 2
}
