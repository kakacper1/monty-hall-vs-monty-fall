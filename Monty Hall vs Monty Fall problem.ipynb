{
 "cells": [
  {
   "cell_type": "markdown",
   "metadata": {},
   "source": [
    "#### Introduction of both problems:\n",
    "\n",
    "1. Monty Hall problem \n",
    "\n",
    "\"Suppose you're on a game show, and you're given the choice of three doors: Behind one door is a car; behind the others, goats. You pick a door, say No. 1, and the host, who knows what's behind the doors, opens another door, say No. 3, which has a goat. He then says to you, \"Do you want to pick door No. 2?\" Is it to your advantage to switch your choice?\" Parade magazine in 1990\n",
    "\n",
    "2. Monty Fall variant\n",
    "\n",
    "\"The host does not know what lies behind the doors, and opens one at random that happens not to reveal the car\"\n",
    "\n",
    "\n",
    "Source: https://en.wikipedia.org/wiki/Monty_Hall_problem"
   ]
  },
  {
   "cell_type": "markdown",
   "metadata": {},
   "source": [
    "#### 1. Monty Hall problem in theory\n",
    "\n",
    "At the beginning, giving initial settings for this problem we have 1/3 chance of selecting a Car.\n",
    "\n",
    "$$ P(C_{1}) = 1/3, P(C_{2}) = 1/3, P(C_{3}) = 1/3 $$ \n",
    "where $C_{i}$  - event that the Car is in $ i $\n",
    "\n",
    "Lets say the contestant chooses the 1st door, now what is the probability that the host will open Door 3, given that the prize is behind either door 1,2 or 3.\n",
    "\n",
    "$$ P(O_{3}|C_{1}) = 1/2, P(O_{3}|C_{2}) = 1 , P(O_{3}|C_{3}) = 0 $$\n",
    "where $O_{i}$  - event that the host opens door $ i $"
   ]
  },
  {
   "cell_type": "markdown",
   "metadata": {},
   "source": [
    "Now that we have understood the reasoning, lets check the optimal strategy. Suppose that in this example the host opens door 3. Door 3 doesn’t have the prize, now how sure can we be that door 2 has the prize?\n",
    "\n",
    "To calculate conditional probabilities Bayesian Rule is used. Bayesian Theorem describes the probability of an event, based on prior knowledge of conditions that might be related to the event.\n",
    "\n",
    "$$ P(A_{i}|B) = \\frac{P(B|A_{i})P(A_{i})}{P(B) }  = \\frac{P(B|A_{i})P(A_{i})}{\\sum \\limits _{j} P(B|A_{j})P(A_{j}) } $$\n",
    "\n",
    "P(A|B) — is the probability of A given that B has already happened.\n",
    "P(B|A) — is the probability of B given that A has already happened. \n",
    "P(A) — is the unconditional probability of A occurring.\n",
    "P(B) — is the unconditional probability of B occurring.\n",
    "\n",
    "\n",
    "$$ P(C_{2}|O_{3}) = \\frac{P(O_{3}|C_{2})P(C_{2})}{P(O_{3}|C_{1})P(C_{1}) + P(O_{3}|C_{2})P(C_{2}) + P(O_{3}|C_{3})P(C_{3}) } =   \\frac{(1)(\\frac{1}{3})}{(\\frac{1}{2})(\\frac{1}{3}) + (1)(\\frac{1}{3}) + (0)(\\frac{1}{3}) } = \\frac{2}{3} $$\n",
    "\n",
    "If we had remained with door 1 in this scenario:\n",
    "\n",
    "$$ P(C_{1}|O_{3}) = \\frac{P(O_{3}|C_{1})P(C_{1})}{P(O_{3}|C_{1})P(C_{1}) + P(O_{3}|C_{2})P(C_{2}) + P(O_{3}|C_{3})P(C_{3}) } =   \\frac{(\\frac{1}{2})(\\frac{1}{3})}{(\\frac{1}{2})(\\frac{1}{3}) + (1)(\\frac{1}{3}) + (0)(\\frac{1}{3}) } = \\frac{1}{3} $$"
   ]
  },
  {
   "cell_type": "markdown",
   "metadata": {},
   "source": [
    "#### 2. Monty Hall problem - simulation of the optimal strategy"
   ]
  },
  {
   "cell_type": "code",
   "execution_count": 29,
   "metadata": {},
   "outputs": [
    {
     "name": "stdout",
     "output_type": "stream",
     "text": [
      "Total time for Loop   2.5781400203704834\n"
     ]
    },
    {
     "data": {
      "image/png": "[encoded data removed]",
      "text/plain": [
       "<Figure size 432x288 with 1 Axes>"
      ]
     },
     "metadata": {
      "needs_background": "light"
     },
     "output_type": "display_data"
    }
   ],
   "source": [
    "%matplotlib inline\n",
    "\n",
    "import matplotlib\n",
    "import numpy as np\n",
    "import matplotlib.pyplot as plt\n",
    "from time import time\n",
    "import random\n",
    "\n",
    "ac = []\n",
    "tc = []\n",
    "N = []\n",
    "\n",
    "start_time = time()\n",
    "\n",
    "total_no_of_simulations = 1000\n",
    "\n",
    "sym_com = False\n",
    "\n",
    "# double loop construction let the us to see how the probabilities are converging at value of 2/3 for seperate experiments\n",
    "\n",
    "for no_of_games in range(1, total_no_of_simulations):\n",
    "    score = []\n",
    "    runs = 0\n",
    "    door_set = {1,2,3}\n",
    "    for K in range(1,no_of_games): # sub loop that simulates from 1 to no_of_games games\n",
    "        \n",
    "        ##initial settings:\n",
    "        not_to_open_doors = set()\n",
    "        host_doors = door_set.copy()\n",
    "        player_doors = door_set.copy()\n",
    "        if sym_com:\n",
    "            print('New game iteration started - iteration ', K )\n",
    "        \n",
    "        #Randomly choose as answer which host knows\n",
    "        prize_door = random.choice(tuple(host_doors))\n",
    "        if sym_com:\n",
    "            print('Prize door selected - ', prize_door)\n",
    "        not_to_open_doors.add(prize_door) # Host knows not to open this door\n",
    "        \n",
    "        #Randomly choose contestant pick\n",
    "        players_choice = random.choice(tuple(player_doors)) # Contestants random guess\n",
    "        if sym_com:\n",
    "            print('Players door selected - ', players_choice)\n",
    "            \n",
    "        not_to_open_doors.add(players_choice)\n",
    "        host_doors.difference_update(not_to_open_doors)\n",
    "        \n",
    "        #if host has a choice, pick one at random and remove from choice for the Contestant\n",
    "        host_elimination = random.choice(tuple(host_doors))\n",
    "        if sym_com:\n",
    "            print('Host has open a door with a goat - ', host_elimination)\n",
    "        player_doors.remove(host_elimination)\n",
    "        #player following optimal strategy will always change primary choice\n",
    "        player_doors.remove(players_choice)\n",
    "        \n",
    "        # check if player has only one door to choose\n",
    "        if not len(player_doors) == 1:\n",
    "            print('Error! More than one choice')\n",
    "        #print (\"final answe\",player)\n",
    "        \n",
    "        # get final choice fromt he set\n",
    "        (final_choice,) = player_doors #= next(iter(player_doors)) \n",
    "        if sym_com:\n",
    "            print('Player has switched the choice for door no - ', final_choice)\n",
    "        if final_choice == prize_door:\n",
    "            score.append(1)\n",
    "            if sym_com:\n",
    "                print('Player has won a car !')\n",
    "        else:\n",
    "            if sym_com:\n",
    "                print('Player has lost the contest...')\n",
    "            score.append(0)\n",
    "        runs = K\n",
    "        \n",
    "    ac.append(np.mean(score))\n",
    "    N.append(no_of_games)\n",
    "    \n",
    "end_time = time()\n",
    "print (\"Total time for Loop  \", end_time - start_time )\n",
    "\n",
    "plt.plot(N,ac)\n",
    "plt.show()"
   ]
  },
  {
   "cell_type": "code",
   "execution_count": 33,
   "metadata": {},
   "outputs": [
    {
     "data": {
      "text/plain": [
       "[0.6491405460060667,\n",
       " 0.6383838383838384,\n",
       " 0.649848637739657,\n",
       " 0.6733870967741935,\n",
       " 0.6364551863041289,\n",
       " 0.6609657947686117,\n",
       " 0.6613065326633166,\n",
       " 0.6827309236947792,\n",
       " 0.6519558676028084,\n",
       " 0.6523046092184369]"
      ]
     },
     "execution_count": 33,
     "metadata": {},
     "output_type": "execute_result"
    }
   ],
   "source": [
    "# show mean score of 10 last simulations\n",
    "ac[-10:]"
   ]
  },
  {
   "cell_type": "markdown",
   "metadata": {},
   "source": [
    "#### 3. Monty Fall problem in theory\n",
    "\n",
    "To meet asumptions of the Monty Fall variant we have to exclude all trials where Monty opens door with a car. In total there will be 2/3 * 1/2 = 1/3 cases to pass. Contestant has to select a goat in the first place (in previous variant this would assure victory) and then Monty has 50% chance to select a goat. There is 1/3 cases where Monty loses his job. 1/3 when he choses a goat and then aplyer with switching tactics win and 1/3 of cases when contestant switches and chooses a goat. Therefore for the second case, there is no best techniques and keeping original choice or switching gives the same values. \n",
    "\n"
   ]
  },
  {
   "cell_type": "markdown",
   "metadata": {},
   "source": [
    "#### 4. Monty Fall problem - simulation of the different strategies"
   ]
  },
  {
   "cell_type": "code",
   "execution_count": 36,
   "metadata": {},
   "outputs": [
    {
     "name": "stdout",
     "output_type": "stream",
     "text": [
      "Total time for Loop   1.9118688106536865\n"
     ]
    },
    {
     "data": {
      "image/png": "[encoded data removed]",
      "text/plain": [
       "<Figure size 432x288 with 1 Axes>"
      ]
     },
     "metadata": {
      "needs_background": "light"
     },
     "output_type": "display_data"
    }
   ],
   "source": [
    "ac = []\n",
    "tc = []\n",
    "N = []\n",
    "\n",
    "start_time = time()\n",
    "\n",
    "total_no_of_simulations = 1000\n",
    "\n",
    "sym_com = False\n",
    "\n",
    "# double loop construction let the us to see how the probabilities are converging at value of 2/3 for seperate experiments\n",
    "\n",
    "for no_of_games in range(1, total_no_of_simulations):\n",
    "    void_trial = 0\n",
    "    score = []\n",
    "    runs = 0\n",
    "    door_set = {1,2,3}\n",
    "    for K in range(1,no_of_games): # sub loop that simulates from 1 to no_of_games games\n",
    "        \n",
    "        ##initial settings:\n",
    "        not_to_open_doors = set()\n",
    "        host_doors = door_set.copy()\n",
    "        player_doors = door_set.copy()\n",
    "        if sym_com:\n",
    "            print('New game iteration started - iteration ', K )\n",
    "        \n",
    "        #Randomly choose as answer which host DOES NOT KNOW\n",
    "        prize_door = random.choice(tuple(host_doors))\n",
    "        if sym_com:\n",
    "            print('Prize door selected - ', prize_door)\n",
    "        #not_to_open_doors.add(prize_door) # Host DOES NOT KNOW not to open this door\n",
    "        \n",
    "        #Randomly choose contestant pick\n",
    "        players_choice = random.choice(tuple(player_doors)) # Contestants random guess\n",
    "        if sym_com:\n",
    "            print('Players door selected - ', players_choice)\n",
    "            \n",
    "        not_to_open_doors.add(players_choice)\n",
    "        host_doors.difference_update(not_to_open_doors)\n",
    "        \n",
    "        #if host has a choice, pick one at random and remove from choice for the Contestant\n",
    "        host_elimination = random.choice(tuple(host_doors))\n",
    "        if host_elimination == prize_door:\n",
    "            if sym_com:\n",
    "                print('Host has chosen a door with a car - ', host_elimination)\n",
    "            void_trial += 1\n",
    "            continue\n",
    "        if sym_com:\n",
    "            print('Host has open a door with a goat - ', host_elimination)\n",
    "        player_doors.remove(host_elimination)\n",
    "        #player following optimal strategy will always change primary choice\n",
    "        player_doors.remove(players_choice)\n",
    "        \n",
    "        # check if player has only one door to choose\n",
    "        if not len(player_doors) == 1:\n",
    "            print('Error! More than one choice')\n",
    "        \n",
    "        # get final choice from the set\n",
    "        (final_choice,) = player_doors\n",
    "        if sym_com:\n",
    "            print('Player has switched the choice for door no - ', final_choice)\n",
    "        if final_choice == prize_door:\n",
    "            score.append(1)\n",
    "            if sym_com:\n",
    "                print('Player has won a car !')\n",
    "        else:\n",
    "            if sym_com:\n",
    "                print('Player has lost the contest...')\n",
    "            score.append(0)\n",
    "        runs = K\n",
    "        \n",
    "    ac.append(np.mean(score))\n",
    "    N.append(no_of_games)\n",
    "    \n",
    "end_time = time()\n",
    "print (\"Total time for Loop  \", end_time - start_time )\n",
    "\n",
    "plt.plot(N,ac)\n",
    "plt.show()"
   ]
  },
  {
   "cell_type": "code",
   "execution_count": 37,
   "metadata": {},
   "outputs": [
    {
     "data": {
      "text/plain": [
       "[0.4686064318529862,\n",
       " 0.487369985141159,\n",
       " 0.5288888888888889,\n",
       " 0.49019607843137253,\n",
       " 0.5007451564828614,\n",
       " 0.5342465753424658,\n",
       " 0.4915254237288136,\n",
       " 0.5237366003062787,\n",
       " 0.5167883211678832,\n",
       " 0.496996996996997]"
      ]
     },
     "execution_count": 37,
     "metadata": {},
     "output_type": "execute_result"
    }
   ],
   "source": [
    "ac[-10:]"
   ]
  }
 ],
 "metadata": {
  "kernelspec": {
   "display_name": "Python 3",
   "language": "python",
   "name": "python3"
  },
  "language_info": {
   "codemirror_mode": {
    "name": "ipython",
    "version": 3
   },
   "file_extension": ".py",
   "mimetype": "text/x-python",
   "name": "python",
   "nbconvert_exporter": "python",
   "pygments_lexer": "ipython3",
   "version": "3.7.3"
  }
 },
 "nbformat": 4,
 "nbformat_minor": 2
}
